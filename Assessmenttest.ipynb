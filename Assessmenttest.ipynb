{
 "cells": [
  {
   "cell_type": "code",
   "execution_count": 5,
   "metadata": {},
   "outputs": [
    {
     "data": {
      "text/plain": [
       "[1, 2, 6, 24, 120, 720, 5040, 40320, 362880, 3628800]"
      ]
     },
     "execution_count": 5,
     "metadata": {},
     "output_type": "execute_result"
    }
   ],
   "source": [
    "### create a function to find the factorials of the numbers in the given rangefor i in range(1,10):\n",
    "\n",
    "import math\n",
    "s = [math.factorial(i)for i in range(1,11)]\n",
    "s\n"
   ]
  },
  {
   "cell_type": "code",
   "execution_count": 21,
   "metadata": {},
   "outputs": [
    {
     "name": "stdout",
     "output_type": "stream",
     "text": [
      "Enter any Number: 38\n",
      " Sum of the digits of Given Number = 11\n"
     ]
    }
   ],
   "source": [
    "###create a function to find the sum of digits in the given number in python\n",
    "\n",
    "\n",
    "N = int(input(\"Enter any Number: \"))\n",
    "S = 0\n",
    "\n",
    "while(N > 0):\n",
    "    R = N% 10\n",
    "    S = S + R\n",
    "    N = N //10\n",
    "\n",
    "print(\" Sum of the digits of Given Number = %d\" %S)"
   ]
  },
  {
   "cell_type": "code",
   "execution_count": null,
   "metadata": {},
   "outputs": [],
   "source": []
  }
 ],
 "metadata": {
  "kernelspec": {
   "display_name": "Python 3",
   "language": "python",
   "name": "python3"
  },
  "language_info": {
   "codemirror_mode": {
    "name": "ipython",
    "version": 3
   },
   "file_extension": ".py",
   "mimetype": "text/x-python",
   "name": "python",
   "nbconvert_exporter": "python",
   "pygments_lexer": "ipython3",
   "version": "3.7.3"
  }
 },
 "nbformat": 4,
 "nbformat_minor": 2
}
